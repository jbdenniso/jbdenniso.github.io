{
 "cells": [
  {
   "cell_type": "markdown",
   "metadata": {},
   "source": [
    "# Publications markdown generator for academicpages\n",
    "\n",
    "Takes a TSV of publications with metadata and converts them for use with [academicpages.github.io](academicpages.github.io). This is an interactive Jupyter notebook ([see more info here](http://jupyter-notebook-beginner-guide.readthedocs.io/en/latest/what_is_jupyter.html)). The core python code is also in `publications.py`. Run either from the `markdown_generator` folder after replacing `publications.tsv` with one containing your data.\n",
    "\n",
    "TODO: Make this work with BibTex and other databases of citations, rather than Stuart's non-standard TSV format and citation style.\n"
   ]
  },
  {
   "cell_type": "markdown",
   "metadata": {},
   "source": [
    "## Data format\n",
    "\n",
    "The TSV needs to have the following columns: pub_date, title, venue, excerpt, citation, site_url, and paper_url, with a header at the top. \n",
    "\n",
    "- `excerpt` and `paper_url` can be blank, but the others must have values. \n",
    "- `pub_date` must be formatted as YYYY-MM-DD.\n",
    "- `url_slug` will be the descriptive part of the .md file and the permalink URL for the page about the paper. The .md file will be `YYYY-MM-DD-[url_slug].md` and the permalink will be `https://[yourdomain]/publications/YYYY-MM-DD-[url_slug]`\n",
    "\n",
    "This is how the raw file looks (it doesn't look pretty, use a spreadsheet or other program to edit and create)."
   ]
  },
  {
   "cell_type": "code",
   "execution_count": 1,
   "metadata": {},
   "outputs": [
    {
     "name": "stdout",
     "output_type": "stream",
     "text": [
      "pub_date\ttitle\tvenue\texcerpt\tcitation\turl_slug\tpaper_url\r\n",
      "2020-05-20\tVariability in the analysis of a single neuroimaging dataset by many teams\tNature\tData analysis workflows in many scientific domains have become increasingly complex and flexible. Here we assess the effect of this flexibility on the results of functional magnetic resonance imaging by asking 70 independent teams to analyse the same dataset, testing the same 9 ex-ante hypotheses1. The flexibility of analytical approaches is exemplified by the fact that no two teams chose identical workflows to analyse the data. This flexibility resulted in sizeable variation in the results of hypothesis tests, even for teams whose statistical maps were highly correlated at intermediate stages of the analysis pipeline. Variation in reported results was related to several aspects of analysis methodology. Notably, a meta-analytical approach that aggregated information across teams yielded a significant consensus in activated regions. Furthermore, prediction markets of researchers in the field revealed an overestimation of the likelihood of significant findings, even by researchers with direct knowledge of the dataset2,3,4,5. Our findings show that analytical flexibility can have substantial effects on scientific conclusions, and identify factors that may be related to variability in the analysis of functional magnetic resonance imaging. The results emphasize the importance of validating and sharing complex analysis workflows, and demonstrate the need for performing and reporting multiple analyses of the same data. Potential approaches that could be used to mitigate issues related to analytical variability are discussed.\tBotvinik-Nezer, R., Holzmeister, F., Camerer, C. F., Dreber, A., Huber, J., Johannesson, M., ... & Rieck, J. R. (2020). Variability in the analysis of a single neuroimaging dataset by many teams. Nature, 582(7810), 84-88.\tVariability in the analysis\thttp://academicpages.github.io/files/paper1.pdf\r\n",
      "2020-10-29\tThe Role of Social Reward and Corticostriatal Connectivity in Substance Use - PMC\tJ. Psychiatric Brain Sci.\tThis report describes an ongoing R03 grant that explores the links between trait reward sensitivity, substance use, and neural responses to social and nonsocial reward. Although previous research has shown that trait reward sensitivity and neural responses to reward are linked to substance use, whether this relationship is impacted by how people process social stimuli remains unclear. We are investigating these questions via a neuroimaging study with college-aged participants, using individual difference measures that examine the relation between substance use, social context, and trait reward sensitivity with tasks that measure reward anticipation, strategic behavior, social reward consumption, and the influence of social context on reward processing. We predict that substance use will be tied to distinct patterns of striatal dysfunction. Specifically, reward hyposensitive individuals will exhibit blunted striatal responses to social and non-social reward and enhanced connectivity with the orbitofrontal cortex; in contrast, reward hypersensitive individuals will exhibit enhanced striatal responses to social and non-social reward and blunted connectivity with the orbitofrontal cortex. We also will examine the relation between self-reported reward sensitivity, substance use, and striatal responses to social reward and social context. We predict that individuals reporting the highest levels of substance use will show exaggerated striatal responses to social reward and social context, independent of self-reported reward sensitivity. Examining corticostriatal responses to reward processing will help characterize the relation between reward sensitivity, social context and substance use while providing a foundation for understanding risk factors and isolating neurocognitive mechanisms that may be targeted to increase the efficacy of interventions.\tSazhin, D., Frazier, A. M., Haynes, C. R., Johnston, C. R., Chat, I. K. Y., Dennison, J. B., ... & Smith, D. V. (2020). The role of social reward and corticostriatal connectivity in substance use. Journal of psychiatry and brain science, 5.\tThe Role of Social Reward ...in Substance Use\thttp://academicpages.github.io/files/paper2.pdf\r\n",
      "2021-05-01\tInflammatory Signaling and Corticostriatal Functional Connectivity to Anticipated Valence and Salience of Reward and Threat Stimuli: An Investigation in Depressed vs. Non-Depressed Young Adults\tBiological Psychiatry\tGrowing research suggests that low-grade inflammatory signaling is associated with neural abnormalities in processing reward and threat cues, with the relationship differing for depressed individuals. No studies have addressed whether the valence or salience of these cues characterizes the abnormalities. Thus, this study examined whether inflammation is associated with distinct neural patterns as a function of anticipated cue valence and salience among individuals with and without depression.\tChat, I. K. Y., Bart, C., Dennison, J., Smith, D., Miller, G., Nusslock, R., & Alloy, L. (2021). Inflammatory Signaling and Corticostriatal Functional Connectivity to Anticipated Valence and Salience of Reward and Threat Stimuli: An Investigation in Depressed vs. Non-Depressed Young Adults. Biological Psychiatry, 89(9), S298-S299.\tInflammatory Signaling\thttp://academicpages.github.io/files/paper3.pdf\r\n",
      "2022-02-08\tDecision neuroscience and neuroeconomics: Recent progress and ongoing challenges\tWIREs Cognitive Science\tIn the past decade, decision neuroscience and neuroeconomics have developed many new insights in the study of decision making. This review provides an overarching update on how the field has advanced in this time period. Although our initial review a decade ago outlined several theoretical, conceptual, methodological, empirical, and practical challenges, there has only been limited progress in resolving these challenges. We summarize significant trends in decision neuroscience through the lens of the challenges outlined for the field and review examples where the field has had significant, direct, and applicable impacts across economics and psychology. First, we review progress on topics including reward learning, explore–exploit decisions, risk and ambiguity, intertemporal choice, and valuation. Next, we assess the impacts of emotion, social rewards, and social context on decision making. Then, we follow up with how individual differences impact choices and new exciting developments in the prediction and neuroforecasting of future decisions. Finally, we consider how trends in decision-neuroscience research reflect progress toward resolving past challenges, discuss new and exciting applications of recent research, and identify new challenges for the field.\tDennison, J. B., Sazhin, D., & Smith, D. V. (2022). Decision neuroscience and neuroeconomics: Recent progress and ongoing challenges. Wiley Interdisciplinary Reviews: Cognitive Science, 13(3), e1589.\tDecision neuroscience and neuroeconomics:\thttp://academicpages.github.io/files/paper4.pdf\r\n",
      "2023-01-19\tSubstance use is related to differential activation and connectivity for social relative to monetary rewards | bioRxiv\tBioRxiv\tSubstance use (SU) has been linked to alterations in reward processing in the ventral striatum (VS). However, less is known about how SU relates to striatal activation and connectivity during social rewards (e.g., positive peer feedback). In this pre-registered study, we hypothesized that SU would be associated with activation and functional connectivity of the VS during receipt of social rewards. Participants (N=44) underwent two fMRI tasks to isolate neural response to social and monetary rewards. The tasks involved choosing between two stimuli: either two purported peers, with the goal of identifying the peer who liked the participant (social); or two doors, with the goal of identifying the door containing a $0.50 prize (monetary). We predicted that VS activation in response to social rewards would be correlated with SU, independent of reward sensitivity (RS); however, an exploratory whole-brain analysis revealed SU was related to activation in the temporoparietal junction instead. Moreover, results showed that aberrant RS blunts the relationship between SU and striatal activation during receipt of rewards, regardless of their domain. Psychophysiological interaction (PPI) analysis demonstrated that SU was associated with decreased connectivity between the VS and dorsomedial prefrontal cortex for social rewards, independent of RS. Exploratory analyses further revealed that RS is associated with increased connectivity between the VS and ventromedial prefrontal cortex during social rewards. Taken together, these findings shed light on the relationships between potential risk factors for developing substance use disorder.\tWyngaarden III, J. B., Johnston, C. R., Sazhin, D., Dennison, J. B., Zaff, O., Fareri, D., ... & Jarcho, J. M. (2023). Substance use is related to differential activation and connectivity for social relative to monetary rewards. BioRxiv, 2023-01.\tSubstance use is related to differential activation and connectivity\thttp://academicpages.github.io/files/paper5.pdf\r\n",
      "2023-02-07\tTensorial Independent Component Analysis Reveals Social and Reward Networks Associated with Major Depressive Disorder\tBioRxiv\tMajor depressive disorder (MDD) has been associated with changes in functional brain connectivity. Yet, typical analyses of functional connectivity, such as spatial ICA for resting-state data, often ignore sources of between-subject variability, which may be crucial for identifying functional connectivity patterns associated with MDD. Typically, methods like spatial ICA will identify a single component to represent a network like the default mode network (DMN), even if groups within the data show differential DMN coactivation. To address this gap, this project applies a tensorial extension of ICA (tensorial ICA) -- which explicitly incorporates between-subject variability -- to identify functionally connected networks using fMRI data from the Human Connectome Project (HCP). Data from the HCP included individuals with a diagnosis of MDD, a family history of MDD, and healthy controls performing a gambling and social cognition task. Based on evidence associating MDD with blunted neural activation to rewards and social stimuli, we predicted that tensorial ICA would identify networks associated with reduced spatio-temporal coherence and blunted social and reward-based network activity in MDD. Across both tasks, tensorial ICA identified three networks showing decreased coherence in MDD. All three networks included ventromedial prefrontal cortex (vmPFC), striatum, and cerebellum and showed different activation across the conditions of their respective tasks. However, MDD was only associated with differences in task-based activation in one network from the social task. Additionally, these results suggest that tensorial ICA could be a valuable tool for understanding clinical differences in relation to network activation and connectivity.\tDennison, J. B., Tepfer, L. J., & Smith, D. V. (2022). Tensorial Independent Component Analysis Reveals Social and Reward Networks Associated with Major Depressive Disorder. bioRxiv, 2022-08.\tTensorial Independent Component Analysis Reveals \thttp://academicpages.github.io/files/paper6.pdf\r\n"
     ]
    }
   ],
   "source": [
    "!cat publications.tsv"
   ]
  },
  {
   "cell_type": "markdown",
   "metadata": {},
   "source": [
    "## Import pandas\n",
    "\n",
    "We are using the very handy pandas library for dataframes."
   ]
  },
  {
   "cell_type": "code",
   "execution_count": 2,
   "metadata": {},
   "outputs": [],
   "source": [
    "import pandas as pd"
   ]
  },
  {
   "cell_type": "markdown",
   "metadata": {},
   "source": [
    "## Import TSV\n",
    "\n",
    "Pandas makes this easy with the read_csv function. We are using a TSV, so we specify the separator as a tab, or `\\t`.\n",
    "\n",
    "I found it important to put this data in a tab-separated values format, because there are a lot of commas in this kind of data and comma-separated values can get messed up. However, you can modify the import statement, as pandas also has read_excel(), read_json(), and others."
   ]
  },
  {
   "cell_type": "code",
   "execution_count": 3,
   "metadata": {},
   "outputs": [
    {
     "data": {
      "text/html": [
       "<div>\n",
       "<style scoped>\n",
       "    .dataframe tbody tr th:only-of-type {\n",
       "        vertical-align: middle;\n",
       "    }\n",
       "\n",
       "    .dataframe tbody tr th {\n",
       "        vertical-align: top;\n",
       "    }\n",
       "\n",
       "    .dataframe thead th {\n",
       "        text-align: right;\n",
       "    }\n",
       "</style>\n",
       "<table border=\"1\" class=\"dataframe\">\n",
       "  <thead>\n",
       "    <tr style=\"text-align: right;\">\n",
       "      <th></th>\n",
       "      <th>pub_date</th>\n",
       "      <th>title</th>\n",
       "      <th>venue</th>\n",
       "      <th>excerpt</th>\n",
       "      <th>citation</th>\n",
       "      <th>url_slug</th>\n",
       "      <th>paper_url</th>\n",
       "    </tr>\n",
       "  </thead>\n",
       "  <tbody>\n",
       "    <tr>\n",
       "      <th>0</th>\n",
       "      <td>2020-05-20</td>\n",
       "      <td>Variability in the analysis of a single neuroi...</td>\n",
       "      <td>Nature</td>\n",
       "      <td>Data analysis workflows in many scientific dom...</td>\n",
       "      <td>Botvinik-Nezer, R., Holzmeister, F., Camerer, ...</td>\n",
       "      <td>Variability in the analysis</td>\n",
       "      <td>http://academicpages.github.io/files/paper1.pdf</td>\n",
       "    </tr>\n",
       "    <tr>\n",
       "      <th>1</th>\n",
       "      <td>2020-10-29</td>\n",
       "      <td>The Role of Social Reward and Corticostriatal ...</td>\n",
       "      <td>J. Psychiatric Brain Sci.</td>\n",
       "      <td>This report describes an ongoing R03 grant tha...</td>\n",
       "      <td>Sazhin, D., Frazier, A. M., Haynes, C. R., Joh...</td>\n",
       "      <td>The Role of Social Reward ...in Substance Use</td>\n",
       "      <td>http://academicpages.github.io/files/paper2.pdf</td>\n",
       "    </tr>\n",
       "    <tr>\n",
       "      <th>2</th>\n",
       "      <td>2021-05-01</td>\n",
       "      <td>Inflammatory Signaling and Corticostriatal Fun...</td>\n",
       "      <td>Biological Psychiatry</td>\n",
       "      <td>Growing research suggests that low-grade infla...</td>\n",
       "      <td>Chat, I. K. Y., Bart, C., Dennison, J., Smith,...</td>\n",
       "      <td>Inflammatory Signaling</td>\n",
       "      <td>http://academicpages.github.io/files/paper3.pdf</td>\n",
       "    </tr>\n",
       "    <tr>\n",
       "      <th>3</th>\n",
       "      <td>2022-02-08</td>\n",
       "      <td>Decision neuroscience and neuroeconomics: Rece...</td>\n",
       "      <td>WIREs Cognitive Science</td>\n",
       "      <td>In the past decade, decision neuroscience and ...</td>\n",
       "      <td>Dennison, J. B., Sazhin, D., &amp; Smith, D. V. (2...</td>\n",
       "      <td>Decision neuroscience and neuroeconomics:</td>\n",
       "      <td>http://academicpages.github.io/files/paper4.pdf</td>\n",
       "    </tr>\n",
       "    <tr>\n",
       "      <th>4</th>\n",
       "      <td>2023-01-19</td>\n",
       "      <td>Substance use is related to differential activ...</td>\n",
       "      <td>BioRxiv</td>\n",
       "      <td>Substance use (SU) has been linked to alterati...</td>\n",
       "      <td>Wyngaarden III, J. B., Johnston, C. R., Sazhin...</td>\n",
       "      <td>Substance use is related to differential activ...</td>\n",
       "      <td>http://academicpages.github.io/files/paper5.pdf</td>\n",
       "    </tr>\n",
       "    <tr>\n",
       "      <th>5</th>\n",
       "      <td>2023-02-07</td>\n",
       "      <td>Tensorial Independent Component Analysis Revea...</td>\n",
       "      <td>BioRxiv</td>\n",
       "      <td>Major depressive disorder (MDD) has been assoc...</td>\n",
       "      <td>Dennison, J. B., Tepfer, L. J., &amp; Smith, D. V....</td>\n",
       "      <td>Tensorial Independent Component Analysis Reveals</td>\n",
       "      <td>http://academicpages.github.io/files/paper6.pdf</td>\n",
       "    </tr>\n",
       "  </tbody>\n",
       "</table>\n",
       "</div>"
      ],
      "text/plain": [
       "     pub_date                                              title  \\\n",
       "0  2020-05-20  Variability in the analysis of a single neuroi...   \n",
       "1  2020-10-29  The Role of Social Reward and Corticostriatal ...   \n",
       "2  2021-05-01  Inflammatory Signaling and Corticostriatal Fun...   \n",
       "3  2022-02-08  Decision neuroscience and neuroeconomics: Rece...   \n",
       "4  2023-01-19  Substance use is related to differential activ...   \n",
       "5  2023-02-07  Tensorial Independent Component Analysis Revea...   \n",
       "\n",
       "                       venue  \\\n",
       "0                     Nature   \n",
       "1  J. Psychiatric Brain Sci.   \n",
       "2      Biological Psychiatry   \n",
       "3    WIREs Cognitive Science   \n",
       "4                    BioRxiv   \n",
       "5                    BioRxiv   \n",
       "\n",
       "                                             excerpt  \\\n",
       "0  Data analysis workflows in many scientific dom...   \n",
       "1  This report describes an ongoing R03 grant tha...   \n",
       "2  Growing research suggests that low-grade infla...   \n",
       "3  In the past decade, decision neuroscience and ...   \n",
       "4  Substance use (SU) has been linked to alterati...   \n",
       "5  Major depressive disorder (MDD) has been assoc...   \n",
       "\n",
       "                                            citation  \\\n",
       "0  Botvinik-Nezer, R., Holzmeister, F., Camerer, ...   \n",
       "1  Sazhin, D., Frazier, A. M., Haynes, C. R., Joh...   \n",
       "2  Chat, I. K. Y., Bart, C., Dennison, J., Smith,...   \n",
       "3  Dennison, J. B., Sazhin, D., & Smith, D. V. (2...   \n",
       "4  Wyngaarden III, J. B., Johnston, C. R., Sazhin...   \n",
       "5  Dennison, J. B., Tepfer, L. J., & Smith, D. V....   \n",
       "\n",
       "                                            url_slug  \\\n",
       "0                        Variability in the analysis   \n",
       "1      The Role of Social Reward ...in Substance Use   \n",
       "2                             Inflammatory Signaling   \n",
       "3          Decision neuroscience and neuroeconomics:   \n",
       "4  Substance use is related to differential activ...   \n",
       "5  Tensorial Independent Component Analysis Reveals    \n",
       "\n",
       "                                         paper_url  \n",
       "0  http://academicpages.github.io/files/paper1.pdf  \n",
       "1  http://academicpages.github.io/files/paper2.pdf  \n",
       "2  http://academicpages.github.io/files/paper3.pdf  \n",
       "3  http://academicpages.github.io/files/paper4.pdf  \n",
       "4  http://academicpages.github.io/files/paper5.pdf  \n",
       "5  http://academicpages.github.io/files/paper6.pdf  "
      ]
     },
     "execution_count": 3,
     "metadata": {},
     "output_type": "execute_result"
    }
   ],
   "source": [
    "publications = pd.read_csv(\"publications.tsv\", sep=\"\\t\", header=0)\n",
    "publications\n"
   ]
  },
  {
   "cell_type": "markdown",
   "metadata": {},
   "source": [
    "## Escape special characters\n",
    "\n",
    "YAML is very picky about how it takes a valid string, so we are replacing single and double quotes (and ampersands) with their HTML encoded equivilents. This makes them look not so readable in raw format, but they are parsed and rendered nicely."
   ]
  },
  {
   "cell_type": "code",
   "execution_count": 4,
   "metadata": {},
   "outputs": [],
   "source": [
    "html_escape_table = {\n",
    "    \"&\": \"&amp;\",\n",
    "    '\"': \"&quot;\",\n",
    "    \"'\": \"&apos;\"\n",
    "    }\n",
    "\n",
    "def html_escape(text):\n",
    "    \"\"\"Produce entities within text.\"\"\"\n",
    "    return \"\".join(html_escape_table.get(c,c) for c in text)"
   ]
  },
  {
   "cell_type": "markdown",
   "metadata": {},
   "source": [
    "## Creating the markdown files\n",
    "\n",
    "This is where the heavy lifting is done. This loops through all the rows in the TSV dataframe, then starts to concatentate a big string (```md```) that contains the markdown for each type. It does the YAML metadata first, then does the description for the individual page."
   ]
  },
  {
   "cell_type": "code",
   "execution_count": 5,
   "metadata": {},
   "outputs": [],
   "source": [
    "import os\n",
    "for row, item in publications.iterrows():\n",
    "    \n",
    "    md_filename = str(item.pub_date) + \"-\" + item.url_slug + \".md\"\n",
    "    html_filename = str(item.pub_date) + \"-\" + item.url_slug\n",
    "    year = item.pub_date[:4]\n",
    "    \n",
    "    ## YAML variables\n",
    "    \n",
    "    md = \"---\\ntitle: \\\"\"   + item.title + '\"\\n'\n",
    "    \n",
    "    md += \"\"\"collection: publications\"\"\"\n",
    "    \n",
    "    md += \"\"\"\\npermalink: /publication/\"\"\" + html_filename\n",
    "    \n",
    "    if len(str(item.excerpt)) > 5:\n",
    "        md += \"\\nexcerpt: '\" + html_escape(item.excerpt) + \"'\"\n",
    "    \n",
    "    md += \"\\ndate: \" + str(item.pub_date) \n",
    "    \n",
    "    md += \"\\nvenue: '\" + html_escape(item.venue) + \"'\"\n",
    "    \n",
    "    if len(str(item.paper_url)) > 5:\n",
    "        md += \"\\npaperurl: '\" + item.paper_url + \"'\"\n",
    "    \n",
    "    md += \"\\ncitation: '\" + html_escape(item.citation) + \"'\"\n",
    "    \n",
    "    md += \"\\n---\"\n",
    "    \n",
    "    ## Markdown description for individual page\n",
    "        \n",
    "    if len(str(item.excerpt)) > 5:\n",
    "        md += \"\\n\" + html_escape(item.excerpt) + \"\\n\"\n",
    "    \n",
    "    if len(str(item.paper_url)) > 5:\n",
    "        md += \"\\n[Download paper here](\" + item.paper_url + \")\\n\" \n",
    "        \n",
    "    md += \"\\nRecommended citation: \" + item.citation\n",
    "    \n",
    "    md_filename = os.path.basename(md_filename)\n",
    "       \n",
    "    with open(\"../_publications/\" + md_filename, 'w') as f:\n",
    "        f.write(md)"
   ]
  },
  {
   "cell_type": "markdown",
   "metadata": {},
   "source": [
    "These files are in the publications directory, one directory below where we're working from."
   ]
  },
  {
   "cell_type": "code",
   "execution_count": 6,
   "metadata": {},
   "outputs": [
    {
     "name": "stdout",
     "output_type": "stream",
     "text": [
      " 2009-10-01-paper-title-number-1.md\r\n",
      " 2010-10-01-paper-title-number-2.md\r\n",
      " 2015-10-01-paper-title-number-3.md\r\n",
      "'2020-05-20-Variability in the analysis.md'\r\n",
      "'2020-10-29-The Role of Social Reward ...in Substance Use.md'\r\n",
      "'2021-05-01-Inflammatory Signaling.md'\r\n",
      "'2022-02-08-Decision neuroscience and neuroeconomics:.md'\r\n",
      "'2023-01-19-Substance use is related to differential activation and connectivity.md'\r\n",
      "'2023-02-07-Tensorial Independent Component Analysis Reveals .md'\r\n"
     ]
    }
   ],
   "source": [
    "!ls ../_publications/"
   ]
  },
  {
   "cell_type": "code",
   "execution_count": 7,
   "metadata": {},
   "outputs": [
    {
     "name": "stdout",
     "output_type": "stream",
     "text": [
      "---\r\n",
      "title: \"Variability in the analysis of a single neuroimaging dataset by many teams\"\r\n",
      "collection: publications\r\n",
      "permalink: /publication/2009-10-01-paper-title-number-1\r\n",
      "excerpt: 'This paper is about the number 1. The number 2 is left for future work.'\r\n",
      "date: 2020-05-20\r\n",
      "venue: 'Nature'\r\n",
      "paperurl: 'http://jbdenniso.github.io/files/Nature-20_Variability.pdf'\r\n",
      "citation: 'Botvinik-Nezer, R., Holzmeister, F., Camerer, C. F., Dreber, A., Huber, J., Johannesson, M., ... & Rieck, J. R. (2020). &quot;Variability in the analysis of a single neuroimaging dataset by many teams.&quot; <i>Nature </i>, 582(7810), 84-88.'\r\n",
      "---\r\n",
      "Data analysis workflows in many scientific domains have become increasingly complex and flexible. Here we assess the effect of this flexibility on the results of functional magnetic resonance imaging by asking 70 independent teams to analyse the same dataset, testing the same 9 ex-ante hypotheses1. The flexibility of analytical approaches is exemplified by the fact that no two teams chose identical workflows to analyse the data. This flexibility resulted in sizeable variation in the results of hypothesis tests, even for teams whose statistical maps were highly correlated at intermediate stages of the analysis pipeline. Variation in reported results was related to several aspects of analysis methodology. Notably, a meta-analytical approach that aggregated information across teams yielded a significant consensus in activated regions. Furthermore, prediction markets of researchers in the field revealed an overestimation of the likelihood of significant findings, even by researchers with direct knowledge of the dataset2,3,4,5. Our findings show that analytical flexibility can have substantial effects on scientific conclusions, and identify factors that may be related to variability in the analysis of functional magnetic resonance imaging. The results emphasize the importance of validating and sharing complex analysis workflows, and demonstrate the need for performing and reporting multiple analyses of the same data. Potential approaches that could be used to mitigate issues related to analytical variability are discussed.\r\n",
      "\r\n",
      "[Download paper here](http://jbdenniso.github.io/files/Nature-20_Variability.pdf)\r\n",
      "\r\n",
      "Recommended citation: Botvinik-Nezer, R., Holzmeister, F., Camerer, C. F., Dreber, A., Huber, J., Johannesson, M., ... & Rieck, J. R. (2020). \"Variability in the analysis of a single neuroimaging dataset by many teams\". <i>Nature </i>, 582(7810), 84-88.\r\n"
     ]
    }
   ],
   "source": [
    "!cat ../_publications/2009-10-01-paper-title-number-1.md"
   ]
  },
  {
   "cell_type": "code",
   "execution_count": null,
   "metadata": {
    "collapsed": true
   },
   "outputs": [],
   "source": []
  }
 ],
 "metadata": {
  "kernelspec": {
   "display_name": "Python 3",
   "language": "python",
   "name": "python3"
  },
  "language_info": {
   "codemirror_mode": {
    "name": "ipython",
    "version": 3
   },
   "file_extension": ".py",
   "mimetype": "text/x-python",
   "name": "python",
   "nbconvert_exporter": "python",
   "pygments_lexer": "ipython3",
   "version": "3.7.9"
  }
 },
 "nbformat": 4,
 "nbformat_minor": 1
}
